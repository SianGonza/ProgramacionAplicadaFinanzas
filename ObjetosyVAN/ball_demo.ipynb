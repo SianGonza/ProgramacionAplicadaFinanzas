{
 "cells": [
  {
   "cell_type": "markdown",
   "id": "78a8c5db",
   "metadata": {},
   "source": [
    "# Demostracion de como usar Objetos en Python\n",
    "# Llamamos al modulo \"ball.py\" con la orden\n",
    "\n",
    "### from ball import *\n",
    "\n",
    "### que le decimos from filename import everything (* is wildcard of C for everything)"
   ]
  },
  {
   "cell_type": "code",
   "execution_count": 1,
   "id": "208fd9f2",
   "metadata": {},
   "outputs": [
    {
     "name": "stdout",
     "output_type": "stream",
     "text": [
      "La Matriz es 4 x 4\n",
      "\n",
      "[86, 29, 85, 60, 88]\n",
      "[78, 26, 47, 22, 24]\n",
      "[59, 73, 49, 93, 17]\n",
      "[77, 25, 39, 72, 55]\n",
      "[23, 31, 27, 34, 45]\n",
      "\n",
      "\n",
      "Ball Data\n",
      "position \n",
      "\t [0, 0]\n",
      "value \n",
      "\t 86\n",
      "row \n",
      "\t [86, 29, 85, 60, 88]\n",
      "column \n",
      "\t [86, 78, 59, 77, 23]\n"
     ]
    }
   ],
   "source": [
    "from ball import *"
   ]
  },
  {
   "cell_type": "code",
   "execution_count": 2,
   "id": "defeda47",
   "metadata": {},
   "outputs": [
    {
     "name": "stdout",
     "output_type": "stream",
     "text": [
      "Help on Tablero in module ball object:\n",
      "\n",
      "class Tablero(builtins.object)\n",
      " |  Tablero(lista)\n",
      " |  \n",
      " |  Descripcion del comportamiento de una pelota\n",
      " |  dentro de un tablero\n",
      " |  Configurar una matriz que sera la mesa\n",
      " |  indicador cantidad de filas rows\n",
      " |  indicador cantidad de columnas columns \n",
      " |  asegurarse que la pelota no se vaya de los limites\n",
      " |  CURSOR \n",
      " |  \n",
      " |  by_row ubicacion por fila\n",
      " |  by_column ubicacion por columna\n",
      " |  \n",
      " |  instancia __init__(self,lista,row,column,by_row=0)\n",
      " |  setear by_column, by_row =  0,0 \n",
      " |  \n",
      " |  field_oculto CURSOR variable que va a interactuar posicion\n",
      " |      self.row = int\n",
      " |      self.column = int \n",
      " |      {\"row\":row,\"column\":column}\n",
      " |  \n",
      " |  funciones \n",
      " |  get_position(self,row=self.row,column=self.column)\n",
      " |  setea ubicacion especifica fila y columna\n",
      " |  \n",
      " |  get_coordinates(self,m=print([self.row,self.column]))\n",
      " |  imprime la ubicacion \n",
      " |  \n",
      " |  # switch intercambio de posicion fila x columna, reasigno valores\n",
      " |  switch(get_position(self,row=self.column,columnk=self.row))\n",
      " |  \n",
      " |  # imprimo contenido fila en que estoy ubicado\n",
      " |  get_row(self, print(self.row))\n",
      " |  \n",
      " |  # imprimo contenido de la columna en que estoy ubicado\n",
      " |  get_column(self, print(self.column))\n",
      " |  \n",
      " |  # borrar fila columna seleccionada\n",
      " |  del_row(self,del(self.row)) | del_column(self,del(self.column))\n",
      " |  \n",
      " |  # swap repetimos el switch intercambio orden filas y columnas\n",
      " |  swap(get_position(self,j=self.column,k=self.row))\n",
      " |  \n",
      " |  # Transpose transponer la matriz\n",
      " |  transpone(self,self.rows=self.columns,self.columns=self.rows)\n",
      " |  LISTO CON SWAP\n",
      " |    \n",
      " |  # mover: Arriba, Abajo, Izquierda y Derecha\n",
      " |  Asegurar respetar los limites\n",
      " |  \n",
      " |  Methods defined here:\n",
      " |  \n",
      " |  __init__(self, lista)\n",
      " |      matriz[row][column]\n",
      " |      lista:  list = lista que contenga las filas del tablero del juego\n",
      " |      row:    int =  posicion fila inicial en  el tablero asignado a 0\n",
      " |      column: int =  posicion columna inicial en  el tablero asignado a 0\n",
      " |      len_row: int = cantidad de filas - 1 (debido a que la funcion len arranca desde 1)\n",
      " |      len_column: int = cantidad de columnas - 1 (debido a que la funcion len arranca desde 1)\n",
      " |      row_bounds: list = limites inferior y superior de filas para no salirse del tablero\n",
      " |      column_bounds: list = limites inferior y superior de columnas para no salirse del tablero\n",
      " |      ball: dict = contiene la \n",
      " |          position: de la pelota [fila=0, columna=0] como punto de partida\n",
      " |          value:    el valor del tablero donde esta posicionada la pelota\n",
      " |          row:      los datos de la fila donde esta posicionada la pelota\n",
      " |          column:   los datos de la columna donde esta posicionada la pelota\n",
      " |  \n",
      " |  abajo(self)\n",
      " |      Mover la pelota una fila abajo, dentro del limite\n",
      " |  \n",
      " |  arriba(self)\n",
      " |      Mover la pelota una fila arriba, dentro del limite\n",
      " |  \n",
      " |  del_column(self, column: int)\n",
      " |      Borrar Columna\n",
      " |  \n",
      " |  del_row(self, row: int)\n",
      " |      Borrar Fila\n",
      " |  \n",
      " |  derecha(self)\n",
      " |      Mover la pelota una columna derecha, dentro del limite\n",
      " |  \n",
      " |  get_colum(self)\n",
      " |      Imprimo la lista ubicada\n",
      " |  \n",
      " |  get_row(self)\n",
      " |      Imprimo la lista ubicada\n",
      " |  \n",
      " |  izquierda(self)\n",
      " |      Mover la pelota una fila abajo, dentro del limite\n",
      " |  \n",
      " |  print(self)\n",
      " |      Funcion para imprimir el estado del juego\n",
      " |      con todos sus datos, es llamada al final de cada\n",
      " |      funcion asi se notifica los cambios al usuario\n",
      " |  \n",
      " |  set_position(self, row, column)\n",
      " |      Funcion para setear una ubicacion \n",
      " |      en caso de especificar solo row o column\n",
      " |      afectara la variable mencionada\n",
      " |      sin alterar la no mencionada\n",
      " |  \n",
      " |  swap(self)\n",
      " |      Funcion para intercambiar los valores position del ball\n",
      " |  \n",
      " |  transpose(self)\n",
      " |      Transpose matrix\n",
      " |  \n",
      " |  ----------------------------------------------------------------------\n",
      " |  Data descriptors defined here:\n",
      " |  \n",
      " |  __dict__\n",
      " |      dictionary for instance variables (if defined)\n",
      " |  \n",
      " |  __weakref__\n",
      " |      list of weak references to the object (if defined)\n",
      "\n",
      "None\n"
     ]
    }
   ],
   "source": [
    "# Si vamos a la documentacion, vemos que en ball tenemos\n",
    "# Definicion del objeto llamado Tablero con sus atributos y funciones que podemos consultar con help\n",
    "# la inicializamos y llamamos a la instancia \"pelota\" \n",
    "\n",
    "print(help(pelota))"
   ]
  },
  {
   "cell_type": "markdown",
   "id": "207e1c0d",
   "metadata": {},
   "source": [
    "# Podemos mover la pelota dentro del tablero a un lugar especifico\n"
   ]
  },
  {
   "cell_type": "code",
   "execution_count": 3,
   "id": "ff28890a",
   "metadata": {},
   "outputs": [
    {
     "name": "stdout",
     "output_type": "stream",
     "text": [
      "La Matriz es 4 x 4\n",
      "\n",
      "[86, 29, 85, 60, 88]\n",
      "[78, 26, 47, 22, 24]\n",
      "[59, 73, 49, 93, 17]\n",
      "[77, 25, 39, 72, 55]\n",
      "[23, 31, 27, 34, 45]\n",
      "\n",
      "\n",
      "Ball Data\n",
      "position \n",
      "\t [2, 4]\n",
      "value \n",
      "\t 17\n",
      "row \n",
      "\t [59, 73, 49, 93, 17]\n",
      "column \n",
      "\t [88, 24, 17, 55, 45]\n"
     ]
    }
   ],
   "source": [
    "pelota.set_position(2,4)"
   ]
  },
  {
   "cell_type": "markdown",
   "id": "e1e30d13",
   "metadata": {},
   "source": [
    "# Si vemos la documentacion vamos a observar que al final de cada funcion esta anidada\n",
    "# la funcion print(self), se debe asi tenemos el output del ultimo estado del juego"
   ]
  },
  {
   "cell_type": "code",
   "execution_count": 4,
   "id": "4e156d84",
   "metadata": {},
   "outputs": [
    {
     "name": "stdout",
     "output_type": "stream",
     "text": [
      "La Matriz es 4 x 4\n",
      "\n",
      "[86, 29, 85, 60, 88]\n",
      "[78, 26, 47, 22, 24]\n",
      "[59, 73, 49, 93, 17]\n",
      "[77, 25, 39, 72, 55]\n",
      "[23, 31, 27, 34, 45]\n",
      "\n",
      "\n",
      "Ball Data\n",
      "position \n",
      "\t [3, 4]\n",
      "value \n",
      "\t 55\n",
      "row \n",
      "\t [77, 25, 39, 72, 55]\n",
      "column \n",
      "\t [88, 24, 17, 55, 45]\n"
     ]
    }
   ],
   "source": [
    "# movemos la pelota arriba\n",
    "pelota.arriba()"
   ]
  },
  {
   "cell_type": "code",
   "execution_count": 5,
   "id": "e781e658",
   "metadata": {},
   "outputs": [
    {
     "name": "stdout",
     "output_type": "stream",
     "text": [
      "La Matriz es 4 x 4\n",
      "\n",
      "[86, 29, 85, 60, 88]\n",
      "[78, 26, 47, 22, 24]\n",
      "[59, 73, 49, 93, 17]\n",
      "[77, 25, 39, 72, 55]\n",
      "[23, 31, 27, 34, 45]\n",
      "\n",
      "\n",
      "Ball Data\n",
      "position \n",
      "\t [3, 4]\n",
      "value \n",
      "\t 55\n",
      "row \n",
      "\t [77, 25, 39, 72, 55]\n",
      "column \n",
      "\t [88, 24, 17, 55, 45]\n"
     ]
    }
   ],
   "source": [
    "# a la derecha\n",
    "pelota.derecha()"
   ]
  },
  {
   "cell_type": "markdown",
   "id": "c636fdf0",
   "metadata": {},
   "source": [
    "# que paso?\n",
    "# Chocamos con el limite de columna de la funcion derecha()\n",
    "# self.column = self.column + 1  if self.column + 1 < max(self.column_bounds) else max(self.column_bounds)\n",
    "# ternary operator evalua si nos vamos a sobrepasar o no, en caso de hacerlo evita el problema\n",
    "\n",
    "\n",
    "### veamos si nos movemos a la izquierda?"
   ]
  },
  {
   "cell_type": "code",
   "execution_count": 6,
   "id": "83f505e5",
   "metadata": {},
   "outputs": [
    {
     "name": "stdout",
     "output_type": "stream",
     "text": [
      "La Matriz es 4 x 4\n",
      "\n",
      "[86, 29, 85, 60, 88]\n",
      "[78, 26, 47, 22, 24]\n",
      "[59, 73, 49, 93, 17]\n",
      "[77, 25, 39, 72, 55]\n",
      "[23, 31, 27, 34, 45]\n",
      "\n",
      "\n",
      "Ball Data\n",
      "position \n",
      "\t [3, 3]\n",
      "value \n",
      "\t 72\n",
      "row \n",
      "\t [77, 25, 39, 72, 55]\n",
      "column \n",
      "\t [60, 22, 93, 72, 34]\n"
     ]
    }
   ],
   "source": [
    "pelota.izquierda()"
   ]
  },
  {
   "cell_type": "code",
   "execution_count": 7,
   "id": "700d48d0",
   "metadata": {},
   "outputs": [
    {
     "name": "stdout",
     "output_type": "stream",
     "text": [
      "La Matriz es 4 x 4\n",
      "\n",
      "[86, 29, 85, 60, 88]\n",
      "[78, 26, 47, 22, 24]\n",
      "[59, 73, 49, 93, 17]\n",
      "[77, 25, 39, 72, 55]\n",
      "[23, 31, 27, 34, 45]\n",
      "\n",
      "\n",
      "Ball Data\n",
      "position \n",
      "\t [3, 2]\n",
      "value \n",
      "\t 39\n",
      "row \n",
      "\t [77, 25, 39, 72, 55]\n",
      "column \n",
      "\t [85, 47, 49, 39, 27]\n"
     ]
    }
   ],
   "source": [
    "pelota.izquierda()"
   ]
  },
  {
   "cell_type": "markdown",
   "id": "95f93f19",
   "metadata": {},
   "source": [
    "# Bingo!!!!\n",
    "\n",
    "# Ahora a transponer el tablero"
   ]
  },
  {
   "cell_type": "code",
   "execution_count": 8,
   "id": "c54408f1",
   "metadata": {},
   "outputs": [
    {
     "name": "stdout",
     "output_type": "stream",
     "text": [
      "La Matriz es 4 x 4\n",
      "\n",
      "[86, 78, 59, 77, 23]\n",
      "[29, 26, 73, 25, 31]\n",
      "[85, 47, 49, 39, 27]\n",
      "[60, 22, 93, 72, 34]\n",
      "[88, 24, 17, 55, 45]\n",
      "\n",
      "\n",
      "Ball Data\n",
      "position \n",
      "\t [2, 3]\n",
      "value \n",
      "\t 39\n",
      "row \n",
      "\t [85, 47, 49, 39, 27]\n",
      "column \n",
      "\t [77, 25, 39, 72, 55]\n",
      "La Matriz es 4 x 4\n",
      "\n",
      "[86, 78, 59, 77, 23]\n",
      "[29, 26, 73, 25, 31]\n",
      "[85, 47, 49, 39, 27]\n",
      "[60, 22, 93, 72, 34]\n",
      "[88, 24, 17, 55, 45]\n",
      "\n",
      "\n",
      "Ball Data\n",
      "position \n",
      "\t [2, 3]\n",
      "value \n",
      "\t 39\n",
      "row \n",
      "\t [85, 47, 49, 39, 27]\n",
      "column \n",
      "\t [77, 25, 39, 72, 55]\n"
     ]
    }
   ],
   "source": [
    "pelota.transpose()"
   ]
  },
  {
   "cell_type": "markdown",
   "id": "2330145e",
   "metadata": {},
   "source": [
    "# El resto es para que juegen"
   ]
  }
 ],
 "metadata": {
  "kernelspec": {
   "display_name": "Python 3 (Spyder)",
   "language": "python3",
   "name": "python3"
  },
  "language_info": {
   "codemirror_mode": {
    "name": "ipython",
    "version": 3
   },
   "file_extension": ".py",
   "mimetype": "text/x-python",
   "name": "python",
   "nbconvert_exporter": "python",
   "pygments_lexer": "ipython3",
   "version": "3.9.13"
  }
 },
 "nbformat": 4,
 "nbformat_minor": 5
}
